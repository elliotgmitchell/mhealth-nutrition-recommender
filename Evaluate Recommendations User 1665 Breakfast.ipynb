{
 "cells": [
  {
   "cell_type": "markdown",
   "metadata": {},
   "source": [
    "# Food Recommendations\n",
    "\n",
    "Below is the output of a recommender system for healthy foods.  "
   ]
  },
  {
   "cell_type": "code",
   "execution_count": 2,
   "metadata": {},
   "outputs": [],
   "source": [
    "# Imports and settings\n",
    "import pandas as pd\n",
    "from Recommender_system.Recommender import UserRatings, collabFilteringModel, getUserFavFoods, getMealRec, format_meal_rec\n",
    "\n",
    "pd.options.display.max_colwidth = 500"
   ]
  },
  {
   "cell_type": "code",
   "execution_count": 3,
   "metadata": {},
   "outputs": [],
   "source": [
    "# Load dataset\n",
    "user_food_table = pd.read_csv(\"Recommender_system/Dataset.csv\")"
   ]
  },
  {
   "cell_type": "markdown",
   "metadata": {},
   "source": [
    "### Set User and Meal Kind\n",
    "\n",
    "Here, set the user ID and kind of meal (`'breakfast'`, `'lunch'`, `'dinner'`, or `''` for all meals)"
   ]
  },
  {
   "cell_type": "code",
   "execution_count": 4,
   "metadata": {},
   "outputs": [],
   "source": [
    "user_id = 1665\n",
    "meal_kind = 'breakfast'"
   ]
  },
  {
   "cell_type": "markdown",
   "metadata": {},
   "source": [
    "## 1. Summary of User's Meals\n",
    "\n",
    "Below are the food items in the user's food log for this meal type"
   ]
  },
  {
   "cell_type": "code",
   "execution_count": 5,
   "metadata": {},
   "outputs": [
    {
     "data": {
      "text/html": [
       "<div>\n",
       "<style scoped>\n",
       "    .dataframe tbody tr th:only-of-type {\n",
       "        vertical-align: middle;\n",
       "    }\n",
       "\n",
       "    .dataframe tbody tr th {\n",
       "        vertical-align: top;\n",
       "    }\n",
       "\n",
       "    .dataframe thead th {\n",
       "        text-align: right;\n",
       "    }\n",
       "</style>\n",
       "<table border=\"1\" class=\"dataframe\">\n",
       "  <thead>\n",
       "    <tr style=\"text-align: right;\">\n",
       "      <th></th>\n",
       "      <th>list of foods</th>\n",
       "    </tr>\n",
       "    <tr>\n",
       "      <th>meal_id</th>\n",
       "      <th></th>\n",
       "    </tr>\n",
       "  </thead>\n",
       "  <tbody>\n",
       "    <tr>\n",
       "      <th>2012</th>\n",
       "      <td>oatmeal, strawberries, oats</td>\n",
       "    </tr>\n",
       "    <tr>\n",
       "      <th>2015</th>\n",
       "      <td>cheerios cereal, low fat milk</td>\n",
       "    </tr>\n",
       "    <tr>\n",
       "      <th>2042</th>\n",
       "      <td>avocado, peanut butter, strawberry preserves, thin bagel, peanut butter, strawberry preserves, avocado</td>\n",
       "    </tr>\n",
       "    <tr>\n",
       "      <th>2048</th>\n",
       "      <td>egg, biscuit, eggs, french fries, raisin</td>\n",
       "    </tr>\n",
       "    <tr>\n",
       "      <th>2052</th>\n",
       "      <td>sausage, bagel</td>\n",
       "    </tr>\n",
       "    <tr>\n",
       "      <th>2055</th>\n",
       "      <td>corn, sweet potato, butter</td>\n",
       "    </tr>\n",
       "    <tr>\n",
       "      <th>2060</th>\n",
       "      <td>hot cereal, cream of wheat, cinnamon</td>\n",
       "    </tr>\n",
       "    <tr>\n",
       "      <th>2064</th>\n",
       "      <td>sandwich, turkey, bread</td>\n",
       "    </tr>\n",
       "    <tr>\n",
       "      <th>2097</th>\n",
       "      <td>cereal, milk</td>\n",
       "    </tr>\n",
       "    <tr>\n",
       "      <th>2114</th>\n",
       "      <td>eggs, sweet potato, stuffing, eggs</td>\n",
       "    </tr>\n",
       "    <tr>\n",
       "      <th>2162</th>\n",
       "      <td>hot cereal, fruit, cream of wheat, banana</td>\n",
       "    </tr>\n",
       "    <tr>\n",
       "      <th>2166</th>\n",
       "      <td>soup, yogurt, carrots</td>\n",
       "    </tr>\n",
       "    <tr>\n",
       "      <th>2194</th>\n",
       "      <td>eggs, tomato</td>\n",
       "    </tr>\n",
       "    <tr>\n",
       "      <th>2203</th>\n",
       "      <td>veggies, eggs, peppers, onions, potatoes, fried eggs, salad</td>\n",
       "    </tr>\n",
       "    <tr>\n",
       "      <th>2222</th>\n",
       "      <td>soup, salad, whitefish salad, carrots, celery, whitefish salad, spinach, tomatoes, pepper, nuts</td>\n",
       "    </tr>\n",
       "    <tr>\n",
       "      <th>2230</th>\n",
       "      <td>boiled egg, potatoes, turkey, yogurt</td>\n",
       "    </tr>\n",
       "    <tr>\n",
       "      <th>2272</th>\n",
       "      <td>cheerios, almond milk</td>\n",
       "    </tr>\n",
       "    <tr>\n",
       "      <th>2377</th>\n",
       "      <td>fruit, pancakes, grapes, pancakes</td>\n",
       "    </tr>\n",
       "    <tr>\n",
       "      <th>2399</th>\n",
       "      <td>waffles, egg, waffles, sausage, butter</td>\n",
       "    </tr>\n",
       "    <tr>\n",
       "      <th>2416</th>\n",
       "      <td>protein shake</td>\n",
       "    </tr>\n",
       "    <tr>\n",
       "      <th>2437</th>\n",
       "      <td>oxtails, white rice, oxtails</td>\n",
       "    </tr>\n",
       "    <tr>\n",
       "      <th>2514</th>\n",
       "      <td>cereal, fruit, berries, banana</td>\n",
       "    </tr>\n",
       "    <tr>\n",
       "      <th>2535</th>\n",
       "      <td>english muffin, egg, swiss, oj</td>\n",
       "    </tr>\n",
       "    <tr>\n",
       "      <th>2644</th>\n",
       "      <td>hard boiled eggs, bagel, potatoes, salami</td>\n",
       "    </tr>\n",
       "    <tr>\n",
       "      <th>2659</th>\n",
       "      <td>pancakes, eggs</td>\n",
       "    </tr>\n",
       "    <tr>\n",
       "      <th>2692</th>\n",
       "      <td>fried eggs, sausage patties, butter, sugar free jelly</td>\n",
       "    </tr>\n",
       "    <tr>\n",
       "      <th>3034</th>\n",
       "      <td>thin bagel, thin bagel, peanut butter</td>\n",
       "    </tr>\n",
       "    <tr>\n",
       "      <th>3064</th>\n",
       "      <td>lentils</td>\n",
       "    </tr>\n",
       "    <tr>\n",
       "      <th>3092</th>\n",
       "      <td>oatmeal, orange</td>\n",
       "    </tr>\n",
       "    <tr>\n",
       "      <th>3201</th>\n",
       "      <td>boiled eggs, waffles, strawberries, butter, ham</td>\n",
       "    </tr>\n",
       "    <tr>\n",
       "      <th>3213</th>\n",
       "      <td>cream of wheat</td>\n",
       "    </tr>\n",
       "    <tr>\n",
       "      <th>3333</th>\n",
       "      <td>wheat, margarine</td>\n",
       "    </tr>\n",
       "    <tr>\n",
       "      <th>3347</th>\n",
       "      <td>cheerios, cheerios, banana, almond milk</td>\n",
       "    </tr>\n",
       "    <tr>\n",
       "      <th>3398</th>\n",
       "      <td>cereal, fruit, oatmeal</td>\n",
       "    </tr>\n",
       "    <tr>\n",
       "      <th>3422</th>\n",
       "      <td>turkey, swiss, avocado, lettuce, tomato, wheat, apple</td>\n",
       "    </tr>\n",
       "    <tr>\n",
       "      <th>3435</th>\n",
       "      <td>lentils</td>\n",
       "    </tr>\n",
       "    <tr>\n",
       "      <th>3450</th>\n",
       "      <td>butter, sugar free jelly</td>\n",
       "    </tr>\n",
       "    <tr>\n",
       "      <th>3481</th>\n",
       "      <td>mayo, bread</td>\n",
       "    </tr>\n",
       "    <tr>\n",
       "      <th>3490</th>\n",
       "      <td>eggs, cheese, onion, orange</td>\n",
       "    </tr>\n",
       "    <tr>\n",
       "      <th>3505</th>\n",
       "      <td>cheerios, cheerios, almond milk unsweetened, grapes</td>\n",
       "    </tr>\n",
       "    <tr>\n",
       "      <th>3542</th>\n",
       "      <td>cereal, fruit, multigrain cheerios, orange</td>\n",
       "    </tr>\n",
       "    <tr>\n",
       "      <th>3552</th>\n",
       "      <td>instant oatmeal, strawberries, chicken soup, broth</td>\n",
       "    </tr>\n",
       "    <tr>\n",
       "      <th>3560</th>\n",
       "      <td>grapes, tomatoes, shrimp, mayo, onions, mayo, carrots</td>\n",
       "    </tr>\n",
       "    <tr>\n",
       "      <th>3629</th>\n",
       "      <td>lentils, lentils, lentils, carrots, onion</td>\n",
       "    </tr>\n",
       "    <tr>\n",
       "      <th>3652</th>\n",
       "      <td>cheese, tomatoes, onions</td>\n",
       "    </tr>\n",
       "  </tbody>\n",
       "</table>\n",
       "</div>"
      ],
      "text/plain": [
       "                                                                                                  list of foods\n",
       "meal_id                                                                                                        \n",
       "2012                                                                                oatmeal, strawberries, oats\n",
       "2015                                                                              cheerios cereal, low fat milk\n",
       "2042     avocado, peanut butter, strawberry preserves, thin bagel, peanut butter, strawberry preserves, avocado\n",
       "2048                                                                   egg, biscuit, eggs, french fries, raisin\n",
       "2052                                                                                             sausage, bagel\n",
       "2055                                                                                 corn, sweet potato, butter\n",
       "2060                                                                       hot cereal, cream of wheat, cinnamon\n",
       "2064                                                                                    sandwich, turkey, bread\n",
       "2097                                                                                               cereal, milk\n",
       "2114                                                                         eggs, sweet potato, stuffing, eggs\n",
       "2162                                                                  hot cereal, fruit, cream of wheat, banana\n",
       "2166                                                                                      soup, yogurt, carrots\n",
       "2194                                                                                               eggs, tomato\n",
       "2203                                                veggies, eggs, peppers, onions, potatoes, fried eggs, salad\n",
       "2222            soup, salad, whitefish salad, carrots, celery, whitefish salad, spinach, tomatoes, pepper, nuts\n",
       "2230                                                                       boiled egg, potatoes, turkey, yogurt\n",
       "2272                                                                                      cheerios, almond milk\n",
       "2377                                                                          fruit, pancakes, grapes, pancakes\n",
       "2399                                                                     waffles, egg, waffles, sausage, butter\n",
       "2416                                                                                              protein shake\n",
       "2437                                                                               oxtails, white rice, oxtails\n",
       "2514                                                                             cereal, fruit, berries, banana\n",
       "2535                                                                             english muffin, egg, swiss, oj\n",
       "2644                                                                  hard boiled eggs, bagel, potatoes, salami\n",
       "2659                                                                                             pancakes, eggs\n",
       "2692                                                      fried eggs, sausage patties, butter, sugar free jelly\n",
       "3034                                                                      thin bagel, thin bagel, peanut butter\n",
       "3064                                                                                                    lentils\n",
       "3092                                                                                            oatmeal, orange\n",
       "3201                                                            boiled eggs, waffles, strawberries, butter, ham\n",
       "3213                                                                                             cream of wheat\n",
       "3333                                                                                           wheat, margarine\n",
       "3347                                                                    cheerios, cheerios, banana, almond milk\n",
       "3398                                                                                     cereal, fruit, oatmeal\n",
       "3422                                                      turkey, swiss, avocado, lettuce, tomato, wheat, apple\n",
       "3435                                                                                                    lentils\n",
       "3450                                                                                   butter, sugar free jelly\n",
       "3481                                                                                                mayo, bread\n",
       "3490                                                                                eggs, cheese, onion, orange\n",
       "3505                                                        cheerios, cheerios, almond milk unsweetened, grapes\n",
       "3542                                                                 cereal, fruit, multigrain cheerios, orange\n",
       "3552                                                         instant oatmeal, strawberries, chicken soup, broth\n",
       "3560                                                      grapes, tomatoes, shrimp, mayo, onions, mayo, carrots\n",
       "3629                                                                  lentils, lentils, lentils, carrots, onion\n",
       "3652                                                                                   cheese, tomatoes, onions"
      ]
     },
     "execution_count": 5,
     "metadata": {},
     "output_type": "execute_result"
    }
   ],
   "source": [
    "user_ratings = UserRatings(user_food_table, meal_kind)\n",
    "user_food_list, meal_summary = user_ratings.mealSummary(user_id)\n",
    "meal_summary"
   ]
  },
  {
   "cell_type": "markdown",
   "metadata": {},
   "source": [
    "## 2. Recommending food items"
   ]
  },
  {
   "cell_type": "code",
   "execution_count": 6,
   "metadata": {},
   "outputs": [
    {
     "data": {
      "text/plain": [
       "collabFilteringModel(d=8, lambd=1, nFoods=410, nUsers=118, sigmasq=0.6)"
      ]
     },
     "execution_count": 6,
     "metadata": {},
     "output_type": "execute_result"
    }
   ],
   "source": [
    "# Run and fit the food recommendation model\n",
    "food_rec_model = collabFilteringModel(d=8, sigmasq=0.6, lambd=1, nUsers=user_ratings.nUsers, nFoods=user_ratings.nFoods)\n",
    "food_rec_model.fit(user_ratings.ratings_train.values,seed_u=3,seed_v=5) #set the seed to get reproducible results"
   ]
  },
  {
   "cell_type": "code",
   "execution_count": 7,
   "metadata": {},
   "outputs": [],
   "source": [
    "# Get favorite and least favorite foods\n",
    "fav_foods = getUserFavFoods(user_id, user_ratings, food_rec_model)\n",
    "fav_foods = fav_foods[~fav_foods.food.isin(user_food_list)]"
   ]
  },
  {
   "cell_type": "code",
   "execution_count": 8,
   "metadata": {},
   "outputs": [],
   "source": [
    "top_fav_foods = fav_foods.iloc[0:10,].food\n",
    "top_fav_foods = top_fav_foods.sample(5, random_state=123)"
   ]
  },
  {
   "cell_type": "code",
   "execution_count": 9,
   "metadata": {},
   "outputs": [],
   "source": [
    "least_fav_foods = fav_foods.iloc[-10:-1,].food\n",
    "least_fav_foods = least_fav_foods.sample(5, random_state=123)"
   ]
  },
  {
   "cell_type": "markdown",
   "metadata": {},
   "source": [
    "Here are 10 food items - based on what the user has eaten before, please rate the extent to which you think the user would or would not like each food item on a scale from 1, the user would not like this food item at all, to 7, the user would like this food item a lot."
   ]
  },
  {
   "cell_type": "code",
   "execution_count": 28,
   "metadata": {},
   "outputs": [
    {
     "data": {
      "text/html": [
       "<div>\n",
       "<style scoped>\n",
       "    .dataframe tbody tr th:only-of-type {\n",
       "        vertical-align: middle;\n",
       "    }\n",
       "\n",
       "    .dataframe tbody tr th {\n",
       "        vertical-align: top;\n",
       "    }\n",
       "\n",
       "    .dataframe thead th {\n",
       "        text-align: right;\n",
       "    }\n",
       "</style>\n",
       "<table border=\"1\" class=\"dataframe\">\n",
       "  <thead>\n",
       "    <tr style=\"text-align: right;\">\n",
       "      <th></th>\n",
       "      <th>food</th>\n",
       "      <th>rating</th>\n",
       "    </tr>\n",
       "  </thead>\n",
       "  <tbody>\n",
       "    <tr>\n",
       "      <th>0</th>\n",
       "      <td>fage</td>\n",
       "      <td>1 (would not like at all) - 2 - 3 - 4 - 5 - 6 - 7 (would like a lot)</td>\n",
       "    </tr>\n",
       "    <tr>\n",
       "      <th>1</th>\n",
       "      <td>coffee with milk</td>\n",
       "      <td>1 (would not like at all) - 2 - 3 - 4 - 5 - 6 - 7 (would like a lot)</td>\n",
       "    </tr>\n",
       "    <tr>\n",
       "      <th>2</th>\n",
       "      <td>granny smith apple</td>\n",
       "      <td>1 (would not like at all) - 2 - 3 - 4 - 5 - 6 - 7 (would like a lot)</td>\n",
       "    </tr>\n",
       "    <tr>\n",
       "      <th>3</th>\n",
       "      <td>rice cakes</td>\n",
       "      <td>1 (would not like at all) - 2 - 3 - 4 - 5 - 6 - 7 (would like a lot)</td>\n",
       "    </tr>\n",
       "    <tr>\n",
       "      <th>4</th>\n",
       "      <td>chicken</td>\n",
       "      <td>1 (would not like at all) - 2 - 3 - 4 - 5 - 6 - 7 (would like a lot)</td>\n",
       "    </tr>\n",
       "    <tr>\n",
       "      <th>5</th>\n",
       "      <td>non dairy creamer</td>\n",
       "      <td>1 (would not like at all) - 2 - 3 - 4 - 5 - 6 - 7 (would like a lot)</td>\n",
       "    </tr>\n",
       "    <tr>\n",
       "      <th>6</th>\n",
       "      <td>hemp seeds</td>\n",
       "      <td>1 (would not like at all) - 2 - 3 - 4 - 5 - 6 - 7 (would like a lot)</td>\n",
       "    </tr>\n",
       "    <tr>\n",
       "      <th>7</th>\n",
       "      <td>bacon</td>\n",
       "      <td>1 (would not like at all) - 2 - 3 - 4 - 5 - 6 - 7 (would like a lot)</td>\n",
       "    </tr>\n",
       "    <tr>\n",
       "      <th>8</th>\n",
       "      <td>muesli</td>\n",
       "      <td>1 (would not like at all) - 2 - 3 - 4 - 5 - 6 - 7 (would like a lot)</td>\n",
       "    </tr>\n",
       "    <tr>\n",
       "      <th>9</th>\n",
       "      <td>canadian bacon</td>\n",
       "      <td>1 (would not like at all) - 2 - 3 - 4 - 5 - 6 - 7 (would like a lot)</td>\n",
       "    </tr>\n",
       "  </tbody>\n",
       "</table>\n",
       "</div>"
      ],
      "text/plain": [
       "                 food  \\\n",
       "0                fage   \n",
       "1    coffee with milk   \n",
       "2  granny smith apple   \n",
       "3          rice cakes   \n",
       "4             chicken   \n",
       "5   non dairy creamer   \n",
       "6          hemp seeds   \n",
       "7               bacon   \n",
       "8              muesli   \n",
       "9      canadian bacon   \n",
       "\n",
       "                                                                 rating  \n",
       "0  1 (would not like at all) - 2 - 3 - 4 - 5 - 6 - 7 (would like a lot)  \n",
       "1  1 (would not like at all) - 2 - 3 - 4 - 5 - 6 - 7 (would like a lot)  \n",
       "2  1 (would not like at all) - 2 - 3 - 4 - 5 - 6 - 7 (would like a lot)  \n",
       "3  1 (would not like at all) - 2 - 3 - 4 - 5 - 6 - 7 (would like a lot)  \n",
       "4  1 (would not like at all) - 2 - 3 - 4 - 5 - 6 - 7 (would like a lot)  \n",
       "5  1 (would not like at all) - 2 - 3 - 4 - 5 - 6 - 7 (would like a lot)  \n",
       "6  1 (would not like at all) - 2 - 3 - 4 - 5 - 6 - 7 (would like a lot)  \n",
       "7  1 (would not like at all) - 2 - 3 - 4 - 5 - 6 - 7 (would like a lot)  \n",
       "8  1 (would not like at all) - 2 - 3 - 4 - 5 - 6 - 7 (would like a lot)  \n",
       "9  1 (would not like at all) - 2 - 3 - 4 - 5 - 6 - 7 (would like a lot)  "
      ]
     },
     "execution_count": 28,
     "metadata": {},
     "output_type": "execute_result"
    }
   ],
   "source": [
    "test_food_list = pd.DataFrame({'label': 'fav', 'food': top_fav_foods})\n",
    "test_food_list = test_food_list.append(pd.DataFrame({'label': 'least_fav', 'food': least_fav_foods})).sample(frac=1).reset_index()\n",
    "test_food_list['rating'] = '1 (would not like at all) - 2 - 3 - 4 - 5 - 6 - 7 (would like a lot)'\n",
    "test_food_list[['food','rating']]"
   ]
  },
  {
   "cell_type": "markdown",
   "metadata": {},
   "source": [
    "## 3. Recommending complete meals"
   ]
  },
  {
   "cell_type": "code",
   "execution_count": 13,
   "metadata": {
    "scrolled": true
   },
   "outputs": [],
   "source": [
    "association_rules = user_ratings.calculateAssociationRules(0.005)"
   ]
  },
  {
   "cell_type": "code",
   "execution_count": 22,
   "metadata": {},
   "outputs": [],
   "source": [
    "seed_food = 'yogurt'"
   ]
  },
  {
   "cell_type": "code",
   "execution_count": 23,
   "metadata": {
    "scrolled": true
   },
   "outputs": [],
   "source": [
    "meal_rec = getMealRec(user_id, user_ratings=user_ratings, model=food_rec_model, seed_food=seed_food)\n",
    "suggestion = meal_rec.iloc[0,:]"
   ]
  },
  {
   "cell_type": "code",
   "execution_count": 18,
   "metadata": {},
   "outputs": [
    {
     "data": {
      "text/plain": [
       "'To go with 2 servings of yogurt, try 0.5 serving of high protein oatmeal'"
      ]
     },
     "execution_count": 18,
     "metadata": {},
     "output_type": "execute_result"
    }
   ],
   "source": [
    "rec = format_meal_rec(suggestion, seed_food)\n",
    "rec"
   ]
  },
  {
   "cell_type": "markdown",
   "metadata": {},
   "source": [
    "How would you rate this recommendation on a scale from 1 to 7?\n",
    "\n",
    "`1 - 2 - 3 - 4 - 5 - 6 - 7`"
   ]
  },
  {
   "cell_type": "code",
   "execution_count": 26,
   "metadata": {},
   "outputs": [
    {
     "data": {
      "text/plain": [
       "'To go with 2 servings of peanut butter, try 1 serving of coffee with half and half and pancakes'"
      ]
     },
     "execution_count": 26,
     "metadata": {},
     "output_type": "execute_result"
    }
   ],
   "source": [
    "seed_food = 'peanut butter'\n",
    "meal_rec = getMealRec(user_id, user_ratings=user_ratings, model=food_rec_model, seed_food=seed_food)\n",
    "suggestion = meal_rec.iloc[0,:]\n",
    "rec = format_meal_rec(suggestion, seed_food)\n",
    "rec"
   ]
  },
  {
   "cell_type": "markdown",
   "metadata": {},
   "source": [
    "How would you rate this recommendation on a scale from 1 to 7?\n",
    "\n",
    "`1 - 2 - 3 - 4 - 5 - 6 - 7`"
   ]
  },
  {
   "cell_type": "code",
   "execution_count": null,
   "metadata": {},
   "outputs": [],
   "source": []
  },
  {
   "cell_type": "code",
   "execution_count": null,
   "metadata": {},
   "outputs": [],
   "source": []
  }
 ],
 "metadata": {
  "kernelspec": {
   "display_name": "Python 3",
   "language": "python",
   "name": "python3"
  },
  "language_info": {
   "codemirror_mode": {
    "name": "ipython",
    "version": 3
   },
   "file_extension": ".py",
   "mimetype": "text/x-python",
   "name": "python",
   "nbconvert_exporter": "python",
   "pygments_lexer": "ipython3",
   "version": "3.6.5"
  }
 },
 "nbformat": 4,
 "nbformat_minor": 2
}
