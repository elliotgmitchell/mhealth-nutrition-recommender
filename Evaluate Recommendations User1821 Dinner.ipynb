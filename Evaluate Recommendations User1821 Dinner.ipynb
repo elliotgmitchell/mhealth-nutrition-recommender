{
 "cells": [
  {
   "cell_type": "markdown",
   "metadata": {},
   "source": [
    "# Food Recommendations\n",
    "\n",
    "Below is the output of a recommender system for healthy foods.  "
   ]
  },
  {
   "cell_type": "code",
   "execution_count": 1,
   "metadata": {},
   "outputs": [],
   "source": [
    "# Imports and settings\n",
    "import pandas as pd\n",
    "from Recommender_system.Recommender import UserRatings, collabFilteringModel, getUserFavFoods, getMealRec, format_meal_rec\n",
    "\n",
    "pd.options.display.max_colwidth = 500"
   ]
  },
  {
   "cell_type": "code",
   "execution_count": 2,
   "metadata": {},
   "outputs": [],
   "source": [
    "# Load dataset\n",
    "user_food_table = pd.read_csv(\"Recommender_system/Dataset.csv\")"
   ]
  },
  {
   "cell_type": "markdown",
   "metadata": {},
   "source": [
    "### Set User and Meal Kind\n",
    "\n",
    "Here, set the user ID and kind of meal (`'breakfast'`, `'lunch'`, `'dinner'`, or `''` for all meals)"
   ]
  },
  {
   "cell_type": "code",
   "execution_count": 3,
   "metadata": {},
   "outputs": [],
   "source": [
    "user_id = 1821\n",
    "meal_kind = 'dinner'"
   ]
  },
  {
   "cell_type": "markdown",
   "metadata": {},
   "source": [
    "## 1. Summary of User's Meals\n",
    "\n",
    "Below are the food items in the user's food log for this meal type"
   ]
  },
  {
   "cell_type": "code",
   "execution_count": 4,
   "metadata": {},
   "outputs": [
    {
     "data": {
      "text/html": [
       "<div>\n",
       "<style scoped>\n",
       "    .dataframe tbody tr th:only-of-type {\n",
       "        vertical-align: middle;\n",
       "    }\n",
       "\n",
       "    .dataframe tbody tr th {\n",
       "        vertical-align: top;\n",
       "    }\n",
       "\n",
       "    .dataframe thead th {\n",
       "        text-align: right;\n",
       "    }\n",
       "</style>\n",
       "<table border=\"1\" class=\"dataframe\">\n",
       "  <thead>\n",
       "    <tr style=\"text-align: right;\">\n",
       "      <th></th>\n",
       "      <th>list of foods</th>\n",
       "    </tr>\n",
       "    <tr>\n",
       "      <th>meal_id</th>\n",
       "      <th></th>\n",
       "    </tr>\n",
       "  </thead>\n",
       "  <tbody>\n",
       "    <tr>\n",
       "      <th>2161</th>\n",
       "      <td>baked ziti, ricotta cheese, mixed greens, dressing, baked ziti, ricotta cheese, mixed greens, dressing</td>\n",
       "    </tr>\n",
       "    <tr>\n",
       "      <th>2179</th>\n",
       "      <td>carrots, broccoli, chicken legs, broccoli</td>\n",
       "    </tr>\n",
       "    <tr>\n",
       "      <th>2185</th>\n",
       "      <td>chicken, salad, lettuce, tomatoes, avocado, pico de gallo, sauce</td>\n",
       "    </tr>\n",
       "    <tr>\n",
       "      <th>2198</th>\n",
       "      <td>yellow rice, pasteles, gandules, pasteles, platano</td>\n",
       "    </tr>\n",
       "    <tr>\n",
       "      <th>2214</th>\n",
       "      <td>baked ziti, salad, tangerine, baked ziti, salad, tangerine</td>\n",
       "    </tr>\n",
       "    <tr>\n",
       "      <th>2233</th>\n",
       "      <td>roast beef hero, roast beef hero, pepper jack cheese, mayo</td>\n",
       "    </tr>\n",
       "    <tr>\n",
       "      <th>2286</th>\n",
       "      <td>rice and beans, pork chop, plantain chips, white rice, red beans, pork chop, plantain chips</td>\n",
       "    </tr>\n",
       "    <tr>\n",
       "      <th>2294</th>\n",
       "      <td>liverwurst, gouda, sandwich, liverwurst, hero</td>\n",
       "    </tr>\n",
       "    <tr>\n",
       "      <th>2302</th>\n",
       "      <td>rice and beans, mixed vegetables, pork chops, white rice, red beans, pumpkin, vegetables, pork chops</td>\n",
       "    </tr>\n",
       "    <tr>\n",
       "      <th>2311</th>\n",
       "      <td>yellow rice, beans, boiled chicken breast, onions, yellow rice, red beans, boiled chicken breast, onions</td>\n",
       "    </tr>\n",
       "    <tr>\n",
       "      <th>2321</th>\n",
       "      <td>rice and beans, steak, onions, salad, yellow rice, red beans, steak, onions, lettuce, tomatoes, salad</td>\n",
       "    </tr>\n",
       "    <tr>\n",
       "      <th>2338</th>\n",
       "      <td>italian sandwich, italian sandwich, ham, provolone, salami</td>\n",
       "    </tr>\n",
       "    <tr>\n",
       "      <th>2344</th>\n",
       "      <td>sweet peppers, beets, chick peas, goat cheese, bread, lettuce, artichoke, sweet peppers, chick peas, beets, goat cheese, bread</td>\n",
       "    </tr>\n",
       "    <tr>\n",
       "      <th>2354</th>\n",
       "      <td>chicken broccoli, stuffing, roasted chicken, broccoli, stuffing</td>\n",
       "    </tr>\n",
       "    <tr>\n",
       "      <th>2364</th>\n",
       "      <td>chicken stuffing, broccoli, chicken stuffing, broccoli</td>\n",
       "    </tr>\n",
       "    <tr>\n",
       "      <th>2371</th>\n",
       "      <td>lasagna, banana, cheeses, banana</td>\n",
       "    </tr>\n",
       "    <tr>\n",
       "      <th>2405</th>\n",
       "      <td>chicken soup, bread, chicken soup, potato, celery, carrots</td>\n",
       "    </tr>\n",
       "    <tr>\n",
       "      <th>2414</th>\n",
       "      <td>roast chicken, lettuce, carrots, cheese, salad, avocado, dressing, roast chicken, carrots, provolone, avocado, dressing</td>\n",
       "    </tr>\n",
       "    <tr>\n",
       "      <th>2420</th>\n",
       "      <td>chinese food, shrimp, lobster, beef broccoli, carrots, vegetables, shrimp fried rice, shrimp, lobster, beef broccoli, carrots, celery, shrimp fried rice</td>\n",
       "    </tr>\n",
       "    <tr>\n",
       "      <th>2433</th>\n",
       "      <td>burgers, sweet potato fries, onion, cheese, sliders, sweet potato fries</td>\n",
       "    </tr>\n",
       "    <tr>\n",
       "      <th>2441</th>\n",
       "      <td>minestrone soup, whole wheat bread, minestrone soup, whole wheat bread</td>\n",
       "    </tr>\n",
       "    <tr>\n",
       "      <th>2457</th>\n",
       "      <td>breaded chicken, vegetable fried rice, egg roll, breaded chicken, vegetable, onions, peas, beans, egg roll</td>\n",
       "    </tr>\n",
       "    <tr>\n",
       "      <th>2470</th>\n",
       "      <td>arroz, gandules, chicken breast, onions, peppers, lettuce and tomato salad, arroz, gandules, chicken breasts, onions, peppers, lettuce and tomato salad</td>\n",
       "    </tr>\n",
       "    <tr>\n",
       "      <th>2477</th>\n",
       "      <td>lasagna, mixed salad, mixed salad, lettuce, carrots</td>\n",
       "    </tr>\n",
       "    <tr>\n",
       "      <th>2488</th>\n",
       "      <td>arroz, gandules, chicken breast, lettuce, arroz, gandules, chicken breast, onions, peppers, lettuce</td>\n",
       "    </tr>\n",
       "    <tr>\n",
       "      <th>2493</th>\n",
       "      <td>ox tail, beef broth, bread, ox tail, beef broth, bread</td>\n",
       "    </tr>\n",
       "    <tr>\n",
       "      <th>2509</th>\n",
       "      <td>mixed salad, lettuce, tomato, onions, cucumber, dressing</td>\n",
       "    </tr>\n",
       "    <tr>\n",
       "      <th>2520</th>\n",
       "      <td>white rice, red beans, pork ribs, white rice, red beans, pork ribs, raw sugar</td>\n",
       "    </tr>\n",
       "    <tr>\n",
       "      <th>2530</th>\n",
       "      <td>noodles, meatballs, mixed salad, hard boiled eggs, bread, pasta, meatballs, mixed salad, lettuce, tomato, cucumber, hard boiled eggs, bread, ranch dressing</td>\n",
       "    </tr>\n",
       "    <tr>\n",
       "      <th>2542</th>\n",
       "      <td>chicken breast, swiss cheese, wheat, sandwich, dates, chicken breast, whole wheat bread, dates</td>\n",
       "    </tr>\n",
       "    <tr>\n",
       "      <th>...</th>\n",
       "      <td>...</td>\n",
       "    </tr>\n",
       "    <tr>\n",
       "      <th>2882</th>\n",
       "      <td>wonton soup, egg roll, wonton soup, egg roll</td>\n",
       "    </tr>\n",
       "    <tr>\n",
       "      <th>2985</th>\n",
       "      <td>mixed greens, tomatoes, strawberry, feta cheese, yellow rice, red beans, steak, onions, yellow rice, red beans, steak, onions, mixed greens, tomato, strawberry, feta cheese</td>\n",
       "    </tr>\n",
       "    <tr>\n",
       "      <th>3021</th>\n",
       "      <td>chicken parmesan, mixed salad, chicken parmesan, mixed salad</td>\n",
       "    </tr>\n",
       "    <tr>\n",
       "      <th>3041</th>\n",
       "      <td>bbq ribs, mashed potatoes, bbq ribs, mashed potatoes</td>\n",
       "    </tr>\n",
       "    <tr>\n",
       "      <th>3061</th>\n",
       "      <td>bbq ribs, mashed potatoes, macaroni salad, carrot juice, bbq ribs, mashed potatoes, macaroni salad, carrot juice</td>\n",
       "    </tr>\n",
       "    <tr>\n",
       "      <th>3113</th>\n",
       "      <td>sausage peppers and onions, hero, sausage peppers and onions, hero</td>\n",
       "    </tr>\n",
       "    <tr>\n",
       "      <th>3153</th>\n",
       "      <td>big mac, fries, coke, big mac, fries, coke</td>\n",
       "    </tr>\n",
       "    <tr>\n",
       "      <th>3179</th>\n",
       "      <td>yellow rice, red beans, bbq ribs, mixed salad, yellow rice, red beans, bbq ribs, cucumbers, carrots, tomato, strawberry, feta cheese</td>\n",
       "    </tr>\n",
       "    <tr>\n",
       "      <th>3207</th>\n",
       "      <td>rice and beans, sausage and peppers, okra, yellow rice, red beans, sausage and peppers, okra</td>\n",
       "    </tr>\n",
       "    <tr>\n",
       "      <th>3238</th>\n",
       "      <td>rice and beans, chicken breast, mixed salad, white rice, red beans, chicken breast, cucumber, carrots, strawberry, feta cheese</td>\n",
       "    </tr>\n",
       "    <tr>\n",
       "      <th>3254</th>\n",
       "      <td>yellow rice, red beans, chicken breast, banana, yellow rice, red beans, chicken breast, banana</td>\n",
       "    </tr>\n",
       "    <tr>\n",
       "      <th>3275</th>\n",
       "      <td>white rice, red beans, chicken breast, banana, white rice, red beans, chicken breast, banana</td>\n",
       "    </tr>\n",
       "    <tr>\n",
       "      <th>3291</th>\n",
       "      <td>baked ziti, garlic toast, mixed salad, baked ziti, garlic toast, lettuce, spinach, tomato, cucumber, carrots, strawberry</td>\n",
       "    </tr>\n",
       "    <tr>\n",
       "      <th>3309</th>\n",
       "      <td>ziti, ziti, bread</td>\n",
       "    </tr>\n",
       "    <tr>\n",
       "      <th>3374</th>\n",
       "      <td>white rice, white beans, spam, white rice, white beans, spam</td>\n",
       "    </tr>\n",
       "    <tr>\n",
       "      <th>3393</th>\n",
       "      <td>toast, wheat, macaroni, carrot juice, toast, whole wheat bread, carrot juice</td>\n",
       "    </tr>\n",
       "    <tr>\n",
       "      <th>3410</th>\n",
       "      <td>yellow rice, gandules, pork chops, mixed salad, yellow rice, gandules, spinach, lettuce, tomato, carrots, cucumber, pork chop</td>\n",
       "    </tr>\n",
       "    <tr>\n",
       "      <th>3465</th>\n",
       "      <td>macaroni salad, celery</td>\n",
       "    </tr>\n",
       "    <tr>\n",
       "      <th>3531</th>\n",
       "      <td>burgers, fries, cheese burger, fries</td>\n",
       "    </tr>\n",
       "    <tr>\n",
       "      <th>3532</th>\n",
       "      <td>cheese burger, fries, cheese burger, fries</td>\n",
       "    </tr>\n",
       "    <tr>\n",
       "      <th>3547</th>\n",
       "      <td>yellow rice, red beans, steak, onions, yellow rice, red beans, steak, onions</td>\n",
       "    </tr>\n",
       "    <tr>\n",
       "      <th>3581</th>\n",
       "      <td>yellow rice, red beans, chicken thigh, mixed salad, yellow rice, red beans, chicken thigh, tomato, cucumber, lettuce, feta cheese</td>\n",
       "    </tr>\n",
       "    <tr>\n",
       "      <th>3593</th>\n",
       "      <td>yellow rice, red beans, roast chicken, mixed salad, yellow rice, red beans, roast chicken, lettuce, cucumber, feta cheese</td>\n",
       "    </tr>\n",
       "    <tr>\n",
       "      <th>3619</th>\n",
       "      <td>steak, onions, mixed salad, steak, onions, spinach, kale, lettuce, cucumber, feta cheese</td>\n",
       "    </tr>\n",
       "    <tr>\n",
       "      <th>3634</th>\n",
       "      <td>chicken salad sandwich, chicken salad sandwich, peppers, celery, cheese</td>\n",
       "    </tr>\n",
       "    <tr>\n",
       "      <th>3649</th>\n",
       "      <td>sausage and peppers, mixed salad, sausage, peppers, mixed salad, spinach, okra</td>\n",
       "    </tr>\n",
       "    <tr>\n",
       "      <th>3656</th>\n",
       "      <td>chicken gumbo soup, whole wheat bread, chicken gumbo soup, whole wheat bread</td>\n",
       "    </tr>\n",
       "    <tr>\n",
       "      <th>3686</th>\n",
       "      <td>chicken alfredo, chicken alfredo</td>\n",
       "    </tr>\n",
       "    <tr>\n",
       "      <th>3700</th>\n",
       "      <td>yellow rice, gandules, bbq ribs, mixed salad, yellow rice, gandules, bbq ribs, spinach, cucumber, feta cheese</td>\n",
       "    </tr>\n",
       "    <tr>\n",
       "      <th>3708</th>\n",
       "      <td>potato salad, potato salad</td>\n",
       "    </tr>\n",
       "  </tbody>\n",
       "</table>\n",
       "<p>77 rows × 1 columns</p>\n",
       "</div>"
      ],
      "text/plain": [
       "                                                                                                                                                                        list of foods\n",
       "meal_id                                                                                                                                                                              \n",
       "2161                                                                           baked ziti, ricotta cheese, mixed greens, dressing, baked ziti, ricotta cheese, mixed greens, dressing\n",
       "2179                                                                                                                                        carrots, broccoli, chicken legs, broccoli\n",
       "2185                                                                                                                 chicken, salad, lettuce, tomatoes, avocado, pico de gallo, sauce\n",
       "2198                                                                                                                               yellow rice, pasteles, gandules, pasteles, platano\n",
       "2214                                                                                                                       baked ziti, salad, tangerine, baked ziti, salad, tangerine\n",
       "2233                                                                                                                       roast beef hero, roast beef hero, pepper jack cheese, mayo\n",
       "2286                                                                                      rice and beans, pork chop, plantain chips, white rice, red beans, pork chop, plantain chips\n",
       "2294                                                                                                                                    liverwurst, gouda, sandwich, liverwurst, hero\n",
       "2302                                                                             rice and beans, mixed vegetables, pork chops, white rice, red beans, pumpkin, vegetables, pork chops\n",
       "2311                                                                         yellow rice, beans, boiled chicken breast, onions, yellow rice, red beans, boiled chicken breast, onions\n",
       "2321                                                                            rice and beans, steak, onions, salad, yellow rice, red beans, steak, onions, lettuce, tomatoes, salad\n",
       "2338                                                                                                                       italian sandwich, italian sandwich, ham, provolone, salami\n",
       "2344                                                   sweet peppers, beets, chick peas, goat cheese, bread, lettuce, artichoke, sweet peppers, chick peas, beets, goat cheese, bread\n",
       "2354                                                                                                                  chicken broccoli, stuffing, roasted chicken, broccoli, stuffing\n",
       "2364                                                                                                                           chicken stuffing, broccoli, chicken stuffing, broccoli\n",
       "2371                                                                                                                                                 lasagna, banana, cheeses, banana\n",
       "2405                                                                                                                       chicken soup, bread, chicken soup, potato, celery, carrots\n",
       "2414                                                          roast chicken, lettuce, carrots, cheese, salad, avocado, dressing, roast chicken, carrots, provolone, avocado, dressing\n",
       "2420                         chinese food, shrimp, lobster, beef broccoli, carrots, vegetables, shrimp fried rice, shrimp, lobster, beef broccoli, carrots, celery, shrimp fried rice\n",
       "2433                                                                                                          burgers, sweet potato fries, onion, cheese, sliders, sweet potato fries\n",
       "2441                                                                                                           minestrone soup, whole wheat bread, minestrone soup, whole wheat bread\n",
       "2457                                                                       breaded chicken, vegetable fried rice, egg roll, breaded chicken, vegetable, onions, peas, beans, egg roll\n",
       "2470                          arroz, gandules, chicken breast, onions, peppers, lettuce and tomato salad, arroz, gandules, chicken breasts, onions, peppers, lettuce and tomato salad\n",
       "2477                                                                                                                              lasagna, mixed salad, mixed salad, lettuce, carrots\n",
       "2488                                                                              arroz, gandules, chicken breast, lettuce, arroz, gandules, chicken breast, onions, peppers, lettuce\n",
       "2493                                                                                                                           ox tail, beef broth, bread, ox tail, beef broth, bread\n",
       "2509                                                                                                                         mixed salad, lettuce, tomato, onions, cucumber, dressing\n",
       "2520                                                                                                    white rice, red beans, pork ribs, white rice, red beans, pork ribs, raw sugar\n",
       "2530                      noodles, meatballs, mixed salad, hard boiled eggs, bread, pasta, meatballs, mixed salad, lettuce, tomato, cucumber, hard boiled eggs, bread, ranch dressing\n",
       "2542                                                                                   chicken breast, swiss cheese, wheat, sandwich, dates, chicken breast, whole wheat bread, dates\n",
       "...                                                                                                                                                                               ...\n",
       "2882                                                                                                                                     wonton soup, egg roll, wonton soup, egg roll\n",
       "2985     mixed greens, tomatoes, strawberry, feta cheese, yellow rice, red beans, steak, onions, yellow rice, red beans, steak, onions, mixed greens, tomato, strawberry, feta cheese\n",
       "3021                                                                                                                     chicken parmesan, mixed salad, chicken parmesan, mixed salad\n",
       "3041                                                                                                                             bbq ribs, mashed potatoes, bbq ribs, mashed potatoes\n",
       "3061                                                                 bbq ribs, mashed potatoes, macaroni salad, carrot juice, bbq ribs, mashed potatoes, macaroni salad, carrot juice\n",
       "3113                                                                                                               sausage peppers and onions, hero, sausage peppers and onions, hero\n",
       "3153                                                                                                                                       big mac, fries, coke, big mac, fries, coke\n",
       "3179                                             yellow rice, red beans, bbq ribs, mixed salad, yellow rice, red beans, bbq ribs, cucumbers, carrots, tomato, strawberry, feta cheese\n",
       "3207                                                                                     rice and beans, sausage and peppers, okra, yellow rice, red beans, sausage and peppers, okra\n",
       "3238                                                   rice and beans, chicken breast, mixed salad, white rice, red beans, chicken breast, cucumber, carrots, strawberry, feta cheese\n",
       "3254                                                                                   yellow rice, red beans, chicken breast, banana, yellow rice, red beans, chicken breast, banana\n",
       "3275                                                                                     white rice, red beans, chicken breast, banana, white rice, red beans, chicken breast, banana\n",
       "3291                                                         baked ziti, garlic toast, mixed salad, baked ziti, garlic toast, lettuce, spinach, tomato, cucumber, carrots, strawberry\n",
       "3309                                                                                                                                                                ziti, ziti, bread\n",
       "3374                                                                                                                     white rice, white beans, spam, white rice, white beans, spam\n",
       "3393                                                                                                     toast, wheat, macaroni, carrot juice, toast, whole wheat bread, carrot juice\n",
       "3410                                                    yellow rice, gandules, pork chops, mixed salad, yellow rice, gandules, spinach, lettuce, tomato, carrots, cucumber, pork chop\n",
       "3465                                                                                                                                                           macaroni salad, celery\n",
       "3531                                                                                                                                             burgers, fries, cheese burger, fries\n",
       "3532                                                                                                                                       cheese burger, fries, cheese burger, fries\n",
       "3547                                                                                                     yellow rice, red beans, steak, onions, yellow rice, red beans, steak, onions\n",
       "3581                                                yellow rice, red beans, chicken thigh, mixed salad, yellow rice, red beans, chicken thigh, tomato, cucumber, lettuce, feta cheese\n",
       "3593                                                        yellow rice, red beans, roast chicken, mixed salad, yellow rice, red beans, roast chicken, lettuce, cucumber, feta cheese\n",
       "3619                                                                                         steak, onions, mixed salad, steak, onions, spinach, kale, lettuce, cucumber, feta cheese\n",
       "3634                                                                                                          chicken salad sandwich, chicken salad sandwich, peppers, celery, cheese\n",
       "3649                                                                                                   sausage and peppers, mixed salad, sausage, peppers, mixed salad, spinach, okra\n",
       "3656                                                                                                     chicken gumbo soup, whole wheat bread, chicken gumbo soup, whole wheat bread\n",
       "3686                                                                                                                                                 chicken alfredo, chicken alfredo\n",
       "3700                                                                    yellow rice, gandules, bbq ribs, mixed salad, yellow rice, gandules, bbq ribs, spinach, cucumber, feta cheese\n",
       "3708                                                                                                                                                       potato salad, potato salad\n",
       "\n",
       "[77 rows x 1 columns]"
      ]
     },
     "execution_count": 4,
     "metadata": {},
     "output_type": "execute_result"
    }
   ],
   "source": [
    "user_ratings = UserRatings(user_food_table, meal_kind)\n",
    "user_food_list, meal_summary = user_ratings.mealSummary(user_id)\n",
    "meal_summary"
   ]
  },
  {
   "cell_type": "markdown",
   "metadata": {},
   "source": [
    "## 2. Recommending food items"
   ]
  },
  {
   "cell_type": "code",
   "execution_count": 5,
   "metadata": {},
   "outputs": [
    {
     "data": {
      "text/plain": [
       "collabFilteringModel(d=8, lambd=1, nFoods=558, nUsers=105, sigmasq=0.6)"
      ]
     },
     "execution_count": 5,
     "metadata": {},
     "output_type": "execute_result"
    }
   ],
   "source": [
    "# Run and fit the food recommendation model\n",
    "food_rec_model = collabFilteringModel(d=8, sigmasq=0.6, lambd=1, nUsers=user_ratings.nUsers, nFoods=user_ratings.nFoods)\n",
    "food_rec_model.fit(user_ratings.ratings_train.values,seed_u=3,seed_v=5) #set the seed to get reproducible results"
   ]
  },
  {
   "cell_type": "code",
   "execution_count": 6,
   "metadata": {},
   "outputs": [],
   "source": [
    "# Get favorite and least favorite foods\n",
    "fav_foods = getUserFavFoods(user_id, user_ratings, food_rec_model)\n",
    "fav_foods = fav_foods[~fav_foods.food.isin(user_food_list)]"
   ]
  },
  {
   "cell_type": "code",
   "execution_count": 7,
   "metadata": {},
   "outputs": [],
   "source": [
    "top_fav_foods = fav_foods.iloc[0:10,].food\n",
    "top_fav_foods = top_fav_foods.sample(5, random_state=123)"
   ]
  },
  {
   "cell_type": "code",
   "execution_count": 8,
   "metadata": {},
   "outputs": [],
   "source": [
    "least_fav_foods = fav_foods.iloc[-10:-1,].food\n",
    "least_fav_foods = least_fav_foods.sample(5, random_state=123)"
   ]
  },
  {
   "cell_type": "markdown",
   "metadata": {},
   "source": [
    "Here are 10 food items - based on what the user has eaten before, please rate the extent to which you think the user would or would not like each food item on a scale from 1, the user would not like this food item at all, to 7, the user would like this food item a lot."
   ]
  },
  {
   "cell_type": "code",
   "execution_count": 15,
   "metadata": {},
   "outputs": [
    {
     "data": {
      "text/html": [
       "<div>\n",
       "<style scoped>\n",
       "    .dataframe tbody tr th:only-of-type {\n",
       "        vertical-align: middle;\n",
       "    }\n",
       "\n",
       "    .dataframe tbody tr th {\n",
       "        vertical-align: top;\n",
       "    }\n",
       "\n",
       "    .dataframe thead th {\n",
       "        text-align: right;\n",
       "    }\n",
       "</style>\n",
       "<table border=\"1\" class=\"dataframe\">\n",
       "  <thead>\n",
       "    <tr style=\"text-align: right;\">\n",
       "      <th></th>\n",
       "      <th>food</th>\n",
       "      <th>rating</th>\n",
       "    </tr>\n",
       "  </thead>\n",
       "  <tbody>\n",
       "    <tr>\n",
       "      <th>0</th>\n",
       "      <td>bagel</td>\n",
       "      <td>1 (would not like at all) - 2 - 3 - 4 - 5 - 6 - 7 (would like a lot)</td>\n",
       "    </tr>\n",
       "    <tr>\n",
       "      <th>1</th>\n",
       "      <td>orange</td>\n",
       "      <td>1 (would not like at all) - 2 - 3 - 4 - 5 - 6 - 7 (would like a lot)</td>\n",
       "    </tr>\n",
       "    <tr>\n",
       "      <th>2</th>\n",
       "      <td>avacado</td>\n",
       "      <td>1 (would not like at all) - 2 - 3 - 4 - 5 - 6 - 7 (would like a lot)</td>\n",
       "    </tr>\n",
       "    <tr>\n",
       "      <th>3</th>\n",
       "      <td>veggies</td>\n",
       "      <td>1 (would not like at all) - 2 - 3 - 4 - 5 - 6 - 7 (would like a lot)</td>\n",
       "    </tr>\n",
       "    <tr>\n",
       "      <th>4</th>\n",
       "      <td>protein bar</td>\n",
       "      <td>1 (would not like at all) - 2 - 3 - 4 - 5 - 6 - 7 (would like a lot)</td>\n",
       "    </tr>\n",
       "    <tr>\n",
       "      <th>5</th>\n",
       "      <td>daikon</td>\n",
       "      <td>1 (would not like at all) - 2 - 3 - 4 - 5 - 6 - 7 (would like a lot)</td>\n",
       "    </tr>\n",
       "    <tr>\n",
       "      <th>6</th>\n",
       "      <td>wine</td>\n",
       "      <td>1 (would not like at all) - 2 - 3 - 4 - 5 - 6 - 7 (would like a lot)</td>\n",
       "    </tr>\n",
       "    <tr>\n",
       "      <th>7</th>\n",
       "      <td>fig</td>\n",
       "      <td>1 (would not like at all) - 2 - 3 - 4 - 5 - 6 - 7 (would like a lot)</td>\n",
       "    </tr>\n",
       "    <tr>\n",
       "      <th>8</th>\n",
       "      <td>franks</td>\n",
       "      <td>1 (would not like at all) - 2 - 3 - 4 - 5 - 6 - 7 (would like a lot)</td>\n",
       "    </tr>\n",
       "    <tr>\n",
       "      <th>9</th>\n",
       "      <td>beer</td>\n",
       "      <td>1 (would not like at all) - 2 - 3 - 4 - 5 - 6 - 7 (would like a lot)</td>\n",
       "    </tr>\n",
       "  </tbody>\n",
       "</table>\n",
       "</div>"
      ],
      "text/plain": [
       "          food  \\\n",
       "0        bagel   \n",
       "1       orange   \n",
       "2      avacado   \n",
       "3      veggies   \n",
       "4  protein bar   \n",
       "5       daikon   \n",
       "6         wine   \n",
       "7          fig   \n",
       "8       franks   \n",
       "9         beer   \n",
       "\n",
       "                                                                 rating  \n",
       "0  1 (would not like at all) - 2 - 3 - 4 - 5 - 6 - 7 (would like a lot)  \n",
       "1  1 (would not like at all) - 2 - 3 - 4 - 5 - 6 - 7 (would like a lot)  \n",
       "2  1 (would not like at all) - 2 - 3 - 4 - 5 - 6 - 7 (would like a lot)  \n",
       "3  1 (would not like at all) - 2 - 3 - 4 - 5 - 6 - 7 (would like a lot)  \n",
       "4  1 (would not like at all) - 2 - 3 - 4 - 5 - 6 - 7 (would like a lot)  \n",
       "5  1 (would not like at all) - 2 - 3 - 4 - 5 - 6 - 7 (would like a lot)  \n",
       "6  1 (would not like at all) - 2 - 3 - 4 - 5 - 6 - 7 (would like a lot)  \n",
       "7  1 (would not like at all) - 2 - 3 - 4 - 5 - 6 - 7 (would like a lot)  \n",
       "8  1 (would not like at all) - 2 - 3 - 4 - 5 - 6 - 7 (would like a lot)  \n",
       "9  1 (would not like at all) - 2 - 3 - 4 - 5 - 6 - 7 (would like a lot)  "
      ]
     },
     "execution_count": 15,
     "metadata": {},
     "output_type": "execute_result"
    }
   ],
   "source": [
    "test_food_list = pd.DataFrame({'label': 'fav', 'food': top_fav_foods})\n",
    "test_food_list = test_food_list.append(pd.DataFrame({'label': 'least_fav', 'food': least_fav_foods})).sample(frac=1).reset_index()\n",
    "test_food_list['rating'] = '1 (would not like at all) - 2 - 3 - 4 - 5 - 6 - 7 (would like a lot)'\n",
    "test_food_list[['food','rating']]"
   ]
  },
  {
   "cell_type": "markdown",
   "metadata": {},
   "source": [
    "## 3. Recommending complete meals"
   ]
  },
  {
   "cell_type": "code",
   "execution_count": 10,
   "metadata": {
    "scrolled": true
   },
   "outputs": [],
   "source": [
    "association_rules = user_ratings.calculateAssociationRules(0.005)"
   ]
  },
  {
   "cell_type": "code",
   "execution_count": 11,
   "metadata": {},
   "outputs": [],
   "source": [
    "seed_food = 'beans'"
   ]
  },
  {
   "cell_type": "code",
   "execution_count": 12,
   "metadata": {
    "scrolled": true
   },
   "outputs": [],
   "source": [
    "meal_rec = getMealRec(user_id, user_ratings=user_ratings, model=food_rec_model, seed_food=seed_food)\n",
    "suggestion = meal_rec.iloc[0,:]"
   ]
  },
  {
   "cell_type": "code",
   "execution_count": 13,
   "metadata": {},
   "outputs": [
    {
     "data": {
      "text/plain": [
       "'To go with 1 serving of beans, try 0.5 serving of tomato and rice'"
      ]
     },
     "execution_count": 13,
     "metadata": {},
     "output_type": "execute_result"
    }
   ],
   "source": [
    "rec = format_meal_rec(suggestion, seed_food)\n",
    "rec"
   ]
  },
  {
   "cell_type": "markdown",
   "metadata": {},
   "source": [
    "How would you rate this recommendation on a scale from 1 to 7?\n",
    "\n",
    "`1 - 2 - 3 - 4 - 5 - 6 - 7`"
   ]
  },
  {
   "cell_type": "code",
   "execution_count": 14,
   "metadata": {},
   "outputs": [
    {
     "data": {
      "text/plain": [
       "'To go with 2 servings of chicken, try 0.5 serving of rice'"
      ]
     },
     "execution_count": 14,
     "metadata": {},
     "output_type": "execute_result"
    }
   ],
   "source": [
    "seed_food = 'chicken'\n",
    "meal_rec = getMealRec(user_id, user_ratings=user_ratings, model=food_rec_model, seed_food=seed_food)\n",
    "suggestion = meal_rec.iloc[0,:]\n",
    "rec = format_meal_rec(suggestion, seed_food)\n",
    "rec"
   ]
  },
  {
   "cell_type": "markdown",
   "metadata": {},
   "source": [
    "How would you rate this recommendation on a scale from 1 to 7?\n",
    "\n",
    "`1 - 2 - 3 - 4 - 5 - 6 - 7`"
   ]
  },
  {
   "cell_type": "code",
   "execution_count": null,
   "metadata": {},
   "outputs": [],
   "source": []
  },
  {
   "cell_type": "code",
   "execution_count": null,
   "metadata": {},
   "outputs": [],
   "source": []
  }
 ],
 "metadata": {
  "kernelspec": {
   "display_name": "Python 3",
   "language": "python",
   "name": "python3"
  },
  "language_info": {
   "codemirror_mode": {
    "name": "ipython",
    "version": 3
   },
   "file_extension": ".py",
   "mimetype": "text/x-python",
   "name": "python",
   "nbconvert_exporter": "python",
   "pygments_lexer": "ipython3",
   "version": "3.6.5"
  }
 },
 "nbformat": 4,
 "nbformat_minor": 2
}
