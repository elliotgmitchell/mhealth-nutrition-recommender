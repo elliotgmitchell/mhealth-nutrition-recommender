{
 "cells": [
  {
   "cell_type": "markdown",
   "metadata": {},
   "source": [
    "# Food Recommendations\n",
    "\n",
    "Below is the output of a recommender system for healthy foods.  "
   ]
  },
  {
   "cell_type": "code",
   "execution_count": 1,
   "metadata": {},
   "outputs": [],
   "source": [
    "# Imports and settings\n",
    "import pandas as pd\n",
    "from Recommender_system.Recommender import UserRatings, collabFilteringModel, getUserFavFoods, getMealRec, format_meal_rec\n",
    "\n",
    "pd.options.display.max_colwidth = 100"
   ]
  },
  {
   "cell_type": "code",
   "execution_count": 2,
   "metadata": {},
   "outputs": [],
   "source": [
    "# Load dataset\n",
    "user_food_table = pd.read_csv(\"Recommender_system/Dataset.csv\")"
   ]
  },
  {
   "cell_type": "markdown",
   "metadata": {},
   "source": [
    "### Set User and Meal Kind\n",
    "\n",
    "Here, set the user ID and kind of meal (`'breakfast'`, `'lunch'`, `'dinner'`, or `''` for all meals)"
   ]
  },
  {
   "cell_type": "code",
   "execution_count": 3,
   "metadata": {},
   "outputs": [],
   "source": [
    "user_id = 445\n",
    "meal_kind = 'lunch'"
   ]
  },
  {
   "cell_type": "markdown",
   "metadata": {},
   "source": [
    "## 1. Summary of User's Meals\n",
    "\n",
    "Below are the food items in the user's food log for this meal type"
   ]
  },
  {
   "cell_type": "code",
   "execution_count": 4,
   "metadata": {},
   "outputs": [
    {
     "data": {
      "text/html": [
       "<div>\n",
       "<style scoped>\n",
       "    .dataframe tbody tr th:only-of-type {\n",
       "        vertical-align: middle;\n",
       "    }\n",
       "\n",
       "    .dataframe tbody tr th {\n",
       "        vertical-align: top;\n",
       "    }\n",
       "\n",
       "    .dataframe thead th {\n",
       "        text-align: right;\n",
       "    }\n",
       "</style>\n",
       "<table border=\"1\" class=\"dataframe\">\n",
       "  <thead>\n",
       "    <tr style=\"text-align: right;\">\n",
       "      <th></th>\n",
       "      <th>list of foods</th>\n",
       "    </tr>\n",
       "    <tr>\n",
       "      <th>meal_id</th>\n",
       "      <th></th>\n",
       "    </tr>\n",
       "  </thead>\n",
       "  <tbody>\n",
       "    <tr>\n",
       "      <th>1124</th>\n",
       "      <td>butternut squash, ravioli, sauce</td>\n",
       "    </tr>\n",
       "    <tr>\n",
       "      <th>1158</th>\n",
       "      <td>chicken breast, shrimp, rice, guacamole</td>\n",
       "    </tr>\n",
       "    <tr>\n",
       "      <th>1181</th>\n",
       "      <td>sweet potato, quinoa, brown rice, black beans, sweet potato, tomato, onion</td>\n",
       "    </tr>\n",
       "    <tr>\n",
       "      <th>1196</th>\n",
       "      <td>soup, chicken broth, carrots, onions, celery, pasta</td>\n",
       "    </tr>\n",
       "    <tr>\n",
       "      <th>1203</th>\n",
       "      <td>basmati rice, lamb, tomatoes, onions, peas, basmati rice</td>\n",
       "    </tr>\n",
       "    <tr>\n",
       "      <th>1222</th>\n",
       "      <td>chicken broth, corn, onions, potatoes, celery, milk</td>\n",
       "    </tr>\n",
       "  </tbody>\n",
       "</table>\n",
       "</div>"
      ],
      "text/plain": [
       "                                                                      list of foods\n",
       "meal_id                                                                            \n",
       "1124                                               butternut squash, ravioli, sauce\n",
       "1158                                        chicken breast, shrimp, rice, guacamole\n",
       "1181     sweet potato, quinoa, brown rice, black beans, sweet potato, tomato, onion\n",
       "1196                            soup, chicken broth, carrots, onions, celery, pasta\n",
       "1203                       basmati rice, lamb, tomatoes, onions, peas, basmati rice\n",
       "1222                            chicken broth, corn, onions, potatoes, celery, milk"
      ]
     },
     "execution_count": 4,
     "metadata": {},
     "output_type": "execute_result"
    }
   ],
   "source": [
    "user_ratings = UserRatings(user_food_table, meal_kind)\n",
    "user_food_list, meal_summary = user_ratings.mealSummary(user_id)\n",
    "meal_summary"
   ]
  },
  {
   "cell_type": "markdown",
   "metadata": {},
   "source": [
    "## 2. Recommending food items"
   ]
  },
  {
   "cell_type": "code",
   "execution_count": 5,
   "metadata": {},
   "outputs": [
    {
     "data": {
      "text/plain": [
       "collabFilteringModel(d=8, lambd=1, nFoods=469, nUsers=116, sigmasq=0.6)"
      ]
     },
     "execution_count": 5,
     "metadata": {},
     "output_type": "execute_result"
    }
   ],
   "source": [
    "# Run and fit the food recommendation model\n",
    "food_rec_model = collabFilteringModel(d=8, sigmasq=0.6, lambd=1, nUsers=user_ratings.nUsers, nFoods=user_ratings.nFoods)\n",
    "food_rec_model.fit(user_ratings.ratings_train.values,seed_u=3,seed_v=5) #set the seed to get reproducible results"
   ]
  },
  {
   "cell_type": "code",
   "execution_count": 6,
   "metadata": {},
   "outputs": [],
   "source": [
    "# Get favorite and least favorite foods\n",
    "fav_foods = getUserFavFoods(user_id, user_ratings, food_rec_model)\n",
    "fav_foods = fav_foods[~fav_foods.food.isin(user_food_list)]"
   ]
  },
  {
   "cell_type": "code",
   "execution_count": 7,
   "metadata": {},
   "outputs": [],
   "source": [
    "top_fav_foods = fav_foods.iloc[0:10,].food\n",
    "top_fav_foods = top_fav_foods.sample(5, random_state=123)"
   ]
  },
  {
   "cell_type": "code",
   "execution_count": 8,
   "metadata": {},
   "outputs": [],
   "source": [
    "least_fav_foods = fav_foods.iloc[-10:-1,].food\n",
    "least_fav_foods = least_fav_foods.sample(5, random_state=123)"
   ]
  },
  {
   "cell_type": "markdown",
   "metadata": {},
   "source": [
    "Here are 10 food items - based on what the user has eaten before, please rate the extent to which you think the user would or would not like each food item on a scale from 1, the user would not like this food item at all, to 7, the user would like this food item a lot."
   ]
  },
  {
   "cell_type": "code",
   "execution_count": 9,
   "metadata": {},
   "outputs": [
    {
     "data": {
      "text/html": [
       "<div>\n",
       "<style scoped>\n",
       "    .dataframe tbody tr th:only-of-type {\n",
       "        vertical-align: middle;\n",
       "    }\n",
       "\n",
       "    .dataframe tbody tr th {\n",
       "        vertical-align: top;\n",
       "    }\n",
       "\n",
       "    .dataframe thead th {\n",
       "        text-align: right;\n",
       "    }\n",
       "</style>\n",
       "<table border=\"1\" class=\"dataframe\">\n",
       "  <thead>\n",
       "    <tr style=\"text-align: right;\">\n",
       "      <th></th>\n",
       "      <th>food</th>\n",
       "      <th>rating</th>\n",
       "    </tr>\n",
       "  </thead>\n",
       "  <tbody>\n",
       "    <tr>\n",
       "      <th>0</th>\n",
       "      <td>sloppy joe</td>\n",
       "      <td>1 (would not like at all) - 2 - 3 - 4 - 5 - 6 - 7 (would like a lot)</td>\n",
       "    </tr>\n",
       "    <tr>\n",
       "      <th>1</th>\n",
       "      <td>veggie straws</td>\n",
       "      <td>1 (would not like at all) - 2 - 3 - 4 - 5 - 6 - 7 (would like a lot)</td>\n",
       "    </tr>\n",
       "    <tr>\n",
       "      <th>2</th>\n",
       "      <td>bun</td>\n",
       "      <td>1 (would not like at all) - 2 - 3 - 4 - 5 - 6 - 7 (would like a lot)</td>\n",
       "    </tr>\n",
       "    <tr>\n",
       "      <th>3</th>\n",
       "      <td>flax</td>\n",
       "      <td>1 (would not like at all) - 2 - 3 - 4 - 5 - 6 - 7 (would like a lot)</td>\n",
       "    </tr>\n",
       "    <tr>\n",
       "      <th>4</th>\n",
       "      <td>sun chips</td>\n",
       "      <td>1 (would not like at all) - 2 - 3 - 4 - 5 - 6 - 7 (would like a lot)</td>\n",
       "    </tr>\n",
       "    <tr>\n",
       "      <th>5</th>\n",
       "      <td>potato chips</td>\n",
       "      <td>1 (would not like at all) - 2 - 3 - 4 - 5 - 6 - 7 (would like a lot)</td>\n",
       "    </tr>\n",
       "    <tr>\n",
       "      <th>6</th>\n",
       "      <td>1% milk</td>\n",
       "      <td>1 (would not like at all) - 2 - 3 - 4 - 5 - 6 - 7 (would like a lot)</td>\n",
       "    </tr>\n",
       "    <tr>\n",
       "      <th>7</th>\n",
       "      <td>bagel</td>\n",
       "      <td>1 (would not like at all) - 2 - 3 - 4 - 5 - 6 - 7 (would like a lot)</td>\n",
       "    </tr>\n",
       "    <tr>\n",
       "      <th>8</th>\n",
       "      <td>hero</td>\n",
       "      <td>1 (would not like at all) - 2 - 3 - 4 - 5 - 6 - 7 (would like a lot)</td>\n",
       "    </tr>\n",
       "    <tr>\n",
       "      <th>9</th>\n",
       "      <td>turkey breast</td>\n",
       "      <td>1 (would not like at all) - 2 - 3 - 4 - 5 - 6 - 7 (would like a lot)</td>\n",
       "    </tr>\n",
       "  </tbody>\n",
       "</table>\n",
       "</div>"
      ],
      "text/plain": [
       "            food  \\\n",
       "0     sloppy joe   \n",
       "1  veggie straws   \n",
       "2            bun   \n",
       "3           flax   \n",
       "4      sun chips   \n",
       "5   potato chips   \n",
       "6        1% milk   \n",
       "7          bagel   \n",
       "8           hero   \n",
       "9  turkey breast   \n",
       "\n",
       "                                                                 rating  \n",
       "0  1 (would not like at all) - 2 - 3 - 4 - 5 - 6 - 7 (would like a lot)  \n",
       "1  1 (would not like at all) - 2 - 3 - 4 - 5 - 6 - 7 (would like a lot)  \n",
       "2  1 (would not like at all) - 2 - 3 - 4 - 5 - 6 - 7 (would like a lot)  \n",
       "3  1 (would not like at all) - 2 - 3 - 4 - 5 - 6 - 7 (would like a lot)  \n",
       "4  1 (would not like at all) - 2 - 3 - 4 - 5 - 6 - 7 (would like a lot)  \n",
       "5  1 (would not like at all) - 2 - 3 - 4 - 5 - 6 - 7 (would like a lot)  \n",
       "6  1 (would not like at all) - 2 - 3 - 4 - 5 - 6 - 7 (would like a lot)  \n",
       "7  1 (would not like at all) - 2 - 3 - 4 - 5 - 6 - 7 (would like a lot)  \n",
       "8  1 (would not like at all) - 2 - 3 - 4 - 5 - 6 - 7 (would like a lot)  \n",
       "9  1 (would not like at all) - 2 - 3 - 4 - 5 - 6 - 7 (would like a lot)  "
      ]
     },
     "execution_count": 9,
     "metadata": {},
     "output_type": "execute_result"
    }
   ],
   "source": [
    "test_food_list = pd.DataFrame({'label': 'fav', 'food': top_fav_foods})\n",
    "test_food_list = test_food_list.append(pd.DataFrame({'label': 'least_fav', 'food': least_fav_foods})).sample(frac=1).reset_index()\n",
    "test_food_list['rating'] = '1 (would not like at all) - 2 - 3 - 4 - 5 - 6 - 7 (would like a lot)'\n",
    "test_food_list[['food','rating']]"
   ]
  },
  {
   "cell_type": "markdown",
   "metadata": {},
   "source": [
    "## 3. Recommending complete meals"
   ]
  },
  {
   "cell_type": "code",
   "execution_count": 21,
   "metadata": {
    "scrolled": true
   },
   "outputs": [],
   "source": [
    "association_rules = user_ratings.calculateAssociationRules(0.005)"
   ]
  },
  {
   "cell_type": "code",
   "execution_count": 22,
   "metadata": {},
   "outputs": [],
   "source": [
    "seed_food = 'rye bread'"
   ]
  },
  {
   "cell_type": "code",
   "execution_count": 23,
   "metadata": {},
   "outputs": [],
   "source": [
    "meal_rec = getMealRec(user_id, user_ratings=user_ratings, model=food_rec_model, seed_food=seed_food)\n",
    "suggestion = meal_rec.iloc[0,:]"
   ]
  },
  {
   "cell_type": "code",
   "execution_count": 24,
   "metadata": {},
   "outputs": [
    {
     "data": {
      "text/plain": [
       "'To go with 2 servings of rye bread, try 1 serving of almond milk and bacon bits'"
      ]
     },
     "execution_count": 24,
     "metadata": {},
     "output_type": "execute_result"
    }
   ],
   "source": [
    "rec = format_meal_rec(suggestion, seed_food)\n",
    "rec"
   ]
  },
  {
   "cell_type": "markdown",
   "metadata": {},
   "source": [
    "How would you rate this recommendation on a scale from 1 to 7?\n",
    "\n",
    "`1 - 2 - 3 - 4 - 5 - 6 - 7`"
   ]
  },
  {
   "cell_type": "code",
   "execution_count": 25,
   "metadata": {},
   "outputs": [
    {
     "data": {
      "text/plain": [
       "'To go with 2 servings of chicken, try 1 serving of carrot, cucumber and tomato'"
      ]
     },
     "execution_count": 25,
     "metadata": {},
     "output_type": "execute_result"
    }
   ],
   "source": [
    "seed_food = 'chicken'\n",
    "meal_rec = getMealRec(user_id, user_ratings=user_ratings, model=food_rec_model, seed_food=seed_food)\n",
    "suggestion = meal_rec.iloc[0,:]\n",
    "rec = format_meal_rec(suggestion, seed_food)\n",
    "rec"
   ]
  },
  {
   "cell_type": "markdown",
   "metadata": {},
   "source": [
    "How would you rate this recommendation on a scale from 1 to 7?\n",
    "\n",
    "`1 - 2 - 3 - 4 - 5 - 6 - 7`"
   ]
  },
  {
   "cell_type": "code",
   "execution_count": null,
   "metadata": {},
   "outputs": [],
   "source": []
  }
 ],
 "metadata": {
  "kernelspec": {
   "display_name": "Python 3",
   "language": "python",
   "name": "python3"
  },
  "language_info": {
   "codemirror_mode": {
    "name": "ipython",
    "version": 3
   },
   "file_extension": ".py",
   "mimetype": "text/x-python",
   "name": "python",
   "nbconvert_exporter": "python",
   "pygments_lexer": "ipython3",
   "version": "3.6.5"
  }
 },
 "nbformat": 4,
 "nbformat_minor": 2
}
